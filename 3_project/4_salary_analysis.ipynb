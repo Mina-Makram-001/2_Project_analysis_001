{
 "cells": [
  {
   "cell_type": "markdown",
   "id": "a22741af",
   "metadata": {},
   "source": [
    "___\n",
    "# 3.How well do jobs and skills pay for Data Analysts?\n",
    "\n",
    "## Methodology\n",
    "1.  Evaluate median salary for all data jobs\n",
    "2.  Find median salary per skill for Data Analysts\n",
    "3.  Visualize for highest paying skills\n",
    "4.  Visualize for highest demanded skills\n",
    "\n",
    "## Original Exploration\n",
    "* `18_Matplotlib_Box_Plots.ipynb`\n",
    "* `19_Exercise_Skill_Pay_Analysis.ipynb`\n",
    "___"
   ]
  },
  {
   "cell_type": "code",
   "execution_count": 35,
   "id": "69bc8afc",
   "metadata": {},
   "outputs": [],
   "source": [
    "import ast \n",
    "import numpy as np\n",
    "import pandas as pd\n",
    "from datasets import load_dataset\n",
    "import matplotlib.pyplot as plt\n",
    "import seaborn as sns\n",
    "\n",
    "# Loading Data\n",
    "dataset = load_dataset('lukebarousse/data_jobs')\n",
    "df = dataset['train'].to_pandas()\n",
    "\n",
    "#data cleanup\n",
    "df['job_posted_date']=pd.to_datetime(df['job_posted_date'])\n",
    "df['job_skills']=df['job_skills'].apply(lambda x: ast.literal_eval(x) if pd.notna(x) else x)  # This converts the string representation to an actual list"
   ]
  },
  {
   "cell_type": "code",
   "execution_count": 36,
   "id": "98c085d3",
   "metadata": {},
   "outputs": [
    {
     "name": "stdout",
     "output_type": "stream",
     "text": [
      "<class 'pandas.core.frame.DataFrame'>\n",
      "RangeIndex: 785741 entries, 0 to 785740\n",
      "Data columns (total 17 columns):\n",
      " #   Column                 Non-Null Count   Dtype         \n",
      "---  ------                 --------------   -----         \n",
      " 0   job_title_short        785741 non-null  object        \n",
      " 1   job_title              785740 non-null  object        \n",
      " 2   job_location           784696 non-null  object        \n",
      " 3   job_via                785733 non-null  object        \n",
      " 4   job_schedule_type      773074 non-null  object        \n",
      " 5   job_work_from_home     785741 non-null  bool          \n",
      " 6   search_location        785741 non-null  object        \n",
      " 7   job_posted_date        785741 non-null  datetime64[ns]\n",
      " 8   job_no_degree_mention  785741 non-null  bool          \n",
      " 9   job_health_insurance   785741 non-null  bool          \n",
      " 10  job_country            785692 non-null  object        \n",
      " 11  salary_rate            33067 non-null   object        \n",
      " 12  salary_year_avg        22003 non-null   float64       \n",
      " 13  salary_hour_avg        10662 non-null   float64       \n",
      " 14  company_name           785723 non-null  object        \n",
      " 15  job_skills             668704 non-null  object        \n",
      " 16  job_type_skills        668704 non-null  object        \n",
      "dtypes: bool(3), datetime64[ns](1), float64(2), object(11)\n",
      "memory usage: 86.2+ MB\n"
     ]
    }
   ],
   "source": [
    "df.info()"
   ]
  },
  {
   "cell_type": "code",
   "execution_count": 37,
   "id": "0ab32057",
   "metadata": {},
   "outputs": [],
   "source": [
    "df_Egy= df[df['job_country'] == 'Egypt'].dropna(subset=['salary_year_avg'])"
   ]
  },
  {
   "cell_type": "code",
   "execution_count": 43,
   "id": "22d73454",
   "metadata": {},
   "outputs": [
    {
     "data": {
      "text/plain": [
       "['Data Engineer', 'Data Scientist', 'Data Analyst']"
      ]
     },
     "execution_count": 43,
     "metadata": {},
     "output_type": "execute_result"
    }
   ],
   "source": [
    "job_titles= df_Egy['job_title_short'].value_counts().index[:3].to_list()\n",
    "job_titles"
   ]
  },
  {
   "cell_type": "code",
   "execution_count": null,
   "id": "38eb5d44",
   "metadata": {},
   "outputs": [],
   "source": [
    "df_Egy_top6= df_Egy[df_Egy['job_title_short'].isin(job_titles)]"
   ]
  },
  {
   "cell_type": "code",
   "execution_count": null,
   "id": "19bfbb57",
   "metadata": {},
   "outputs": [
    {
     "name": "stderr",
     "output_type": "stream",
     "text": [
      "C:\\Users\\go\\AppData\\Local\\Temp\\ipykernel_9668\\2981954736.py:1: FutureWarning: \n",
      "\n",
      "Passing `palette` without assigning `hue` is deprecated and will be removed in v0.14.0. Assign the `y` variable to `hue` and set `legend=False` for the same effect.\n",
      "\n",
      "  sns.boxplot(data=df_Egy_top6, x='salary_year_avg', y='job_title_short', palette='mako')\n"
     ]
    },
    {
     "data": {
      "image/png": "[encoded data removed]",
      "text/plain": [
       "<Figure size 640x480 with 1 Axes>"
      ]
     },
     "metadata": {},
     "output_type": "display_data"
    }
   ],
   "source": [
    "sns.boxplot(data=df_Egy_top6, x='salary_year_avg', y='job_title_short', palette='mako')\n",
    "\n",
    "plt.title('Salary Distribution in Egypt')\n",
    "plt.xlabel('Yearly Salary ($USD)')\n",
    "plt.ylabel('')\n",
    "ax = plt.gca() \n",
    "ax.xaxis.set_major_formatter(plt.FuncFormatter(lambda x, _: f'${int(x/1000)}K'))\n",
    "plt.show()"
   ]
  },
  {
   "cell_type": "markdown",
   "id": "aad6ed7d",
   "metadata": {},
   "source": [
    "## Investigating median salary vs skill for data analysis"
   ]
  },
  {
   "cell_type": "code",
   "execution_count": 51,
   "id": "c4816f0f",
   "metadata": {},
   "outputs": [],
   "source": [
    "df_DA_Egy=df[(df['job_title_short'] == 'Data Analyst') & (df['job_country'] == 'Egypt')].copy()\n",
    "df_Egy= df_Egy.dropna(subset=['salary_year_avg'])"
   ]
  },
  {
   "cell_type": "code",
   "execution_count": 53,
   "id": "e3717c08",
   "metadata": {},
   "outputs": [],
   "source": [
    "df_Egy= df_Egy.explode('job_skills')"
   ]
  },
  {
   "cell_type": "code",
   "execution_count": 61,
   "id": "2404cf02",
   "metadata": {},
   "outputs": [
    {
     "data": {
      "text/html": [
       "<div>\n",
       "<style scoped>\n",
       "    .dataframe tbody tr th:only-of-type {\n",
       "        vertical-align: middle;\n",
       "    }\n",
       "\n",
       "    .dataframe tbody tr th {\n",
       "        vertical-align: top;\n",
       "    }\n",
       "\n",
       "    .dataframe thead th {\n",
       "        text-align: right;\n",
       "    }\n",
       "</style>\n",
       "<table border=\"1\" class=\"dataframe\">\n",
       "  <thead>\n",
       "    <tr style=\"text-align: right;\">\n",
       "      <th></th>\n",
       "      <th>count</th>\n",
       "      <th>median</th>\n",
       "    </tr>\n",
       "    <tr>\n",
       "      <th>job_skills</th>\n",
       "      <th></th>\n",
       "      <th></th>\n",
       "    </tr>\n",
       "  </thead>\n",
       "  <tbody>\n",
       "    <tr>\n",
       "      <th>git</th>\n",
       "      <td>1</td>\n",
       "      <td>166000.0</td>\n",
       "    </tr>\n",
       "    <tr>\n",
       "      <th>keras</th>\n",
       "      <td>1</td>\n",
       "      <td>166000.0</td>\n",
       "    </tr>\n",
       "    <tr>\n",
       "      <th>jira</th>\n",
       "      <td>1</td>\n",
       "      <td>166000.0</td>\n",
       "    </tr>\n",
       "    <tr>\n",
       "      <th>numpy</th>\n",
       "      <td>1</td>\n",
       "      <td>166000.0</td>\n",
       "    </tr>\n",
       "    <tr>\n",
       "      <th>pandas</th>\n",
       "      <td>1</td>\n",
       "      <td>166000.0</td>\n",
       "    </tr>\n",
       "    <tr>\n",
       "      <th>pytorch</th>\n",
       "      <td>1</td>\n",
       "      <td>166000.0</td>\n",
       "    </tr>\n",
       "    <tr>\n",
       "      <th>linux</th>\n",
       "      <td>2</td>\n",
       "      <td>161750.0</td>\n",
       "    </tr>\n",
       "    <tr>\n",
       "      <th>matlab</th>\n",
       "      <td>1</td>\n",
       "      <td>157500.0</td>\n",
       "    </tr>\n",
       "    <tr>\n",
       "      <th>shell</th>\n",
       "      <td>1</td>\n",
       "      <td>157500.0</td>\n",
       "    </tr>\n",
       "    <tr>\n",
       "      <th>elasticsearch</th>\n",
       "      <td>1</td>\n",
       "      <td>157500.0</td>\n",
       "    </tr>\n",
       "  </tbody>\n",
       "</table>\n",
       "</div>"
      ],
      "text/plain": [
       "               count    median\n",
       "job_skills                    \n",
       "git                1  166000.0\n",
       "keras              1  166000.0\n",
       "jira               1  166000.0\n",
       "numpy              1  166000.0\n",
       "pandas             1  166000.0\n",
       "pytorch            1  166000.0\n",
       "linux              2  161750.0\n",
       "matlab             1  157500.0\n",
       "shell              1  157500.0\n",
       "elasticsearch      1  157500.0"
      ]
     },
     "execution_count": 61,
     "metadata": {},
     "output_type": "execute_result"
    }
   ],
   "source": [
    "df_Egy_top10_median= df_Egy.groupby('job_skills')['salary_year_avg'].agg(['count', 'median']).sort_values(by='median', ascending=False)\n",
    "df_Egy_top10_median= df_Egy_top10_median.head(10)\n",
    "df_Egy_top10_median"
   ]
  },
  {
   "cell_type": "code",
   "execution_count": 60,
   "id": "80f6dc63",
   "metadata": {},
   "outputs": [
    {
     "data": {
      "text/html": [
       "<div>\n",
       "<style scoped>\n",
       "    .dataframe tbody tr th:only-of-type {\n",
       "        vertical-align: middle;\n",
       "    }\n",
       "\n",
       "    .dataframe tbody tr th {\n",
       "        vertical-align: top;\n",
       "    }\n",
       "\n",
       "    .dataframe thead th {\n",
       "        text-align: right;\n",
       "    }\n",
       "</style>\n",
       "<table border=\"1\" class=\"dataframe\">\n",
       "  <thead>\n",
       "    <tr style=\"text-align: right;\">\n",
       "      <th></th>\n",
       "      <th>count</th>\n",
       "      <th>median</th>\n",
       "    </tr>\n",
       "    <tr>\n",
       "      <th>job_skills</th>\n",
       "      <th></th>\n",
       "      <th></th>\n",
       "    </tr>\n",
       "  </thead>\n",
       "  <tbody>\n",
       "    <tr>\n",
       "      <th>python</th>\n",
       "      <td>14</td>\n",
       "      <td>90670.0</td>\n",
       "    </tr>\n",
       "    <tr>\n",
       "      <th>sql</th>\n",
       "      <td>13</td>\n",
       "      <td>90670.0</td>\n",
       "    </tr>\n",
       "    <tr>\n",
       "      <th>mongodb</th>\n",
       "      <td>6</td>\n",
       "      <td>90670.0</td>\n",
       "    </tr>\n",
       "    <tr>\n",
       "      <th>scala</th>\n",
       "      <td>6</td>\n",
       "      <td>96773.0</td>\n",
       "    </tr>\n",
       "    <tr>\n",
       "      <th>sas</th>\n",
       "      <td>6</td>\n",
       "      <td>90670.0</td>\n",
       "    </tr>\n",
       "    <tr>\n",
       "      <th>excel</th>\n",
       "      <td>5</td>\n",
       "      <td>79200.0</td>\n",
       "    </tr>\n",
       "    <tr>\n",
       "      <th>r</th>\n",
       "      <td>5</td>\n",
       "      <td>70000.0</td>\n",
       "    </tr>\n",
       "    <tr>\n",
       "      <th>spark</th>\n",
       "      <td>5</td>\n",
       "      <td>90670.0</td>\n",
       "    </tr>\n",
       "    <tr>\n",
       "      <th>aws</th>\n",
       "      <td>5</td>\n",
       "      <td>96773.0</td>\n",
       "    </tr>\n",
       "    <tr>\n",
       "      <th>nosql</th>\n",
       "      <td>4</td>\n",
       "      <td>93721.5</td>\n",
       "    </tr>\n",
       "  </tbody>\n",
       "</table>\n",
       "</div>"
      ],
      "text/plain": [
       "            count   median\n",
       "job_skills                \n",
       "python         14  90670.0\n",
       "sql            13  90670.0\n",
       "mongodb         6  90670.0\n",
       "scala           6  96773.0\n",
       "sas             6  90670.0\n",
       "excel           5  79200.0\n",
       "r               5  70000.0\n",
       "spark           5  90670.0\n",
       "aws             5  96773.0\n",
       "nosql           4  93721.5"
      ]
     },
     "execution_count": 60,
     "metadata": {},
     "output_type": "execute_result"
    }
   ],
   "source": [
    "df_Egy_top10_count= df_Egy.groupby('job_skills')['salary_year_avg'].agg(['count', 'median']).sort_values(by='count', ascending=False)\n",
    "df_Egy_top10_count= df_Egy_top10_count.head(10)\n",
    "df_Egy_top10_count"
   ]
  },
  {
   "cell_type": "code",
   "execution_count": 64,
   "id": "b7cc21a7",
   "metadata": {},
   "outputs": [
    {
     "data": {
      "image/png": "[encoded data removed]",
      "text/plain": [
       "<Figure size 640x480 with 2 Axes>"
      ]
     },
     "metadata": {},
     "output_type": "display_data"
    }
   ],
   "source": [
    "fig, ax = plt.subplots(2, 1)\n",
    "\n",
    "\n",
    "sns.barplot(data=df_Egy_top10_median, x='median', y=df_Egy_top10_median.index, ax=ax[0], hue='median', palette='mako_r') # _r to reverse the palette\n",
    "ax[0].legend_.remove()\n",
    "\n",
    "#df_DA_top_pay[:-1].plot(kind='barh', y='median', ax=ax[0], legend=False) # [:-1] to exclude the last row which is \"nan\"\n",
    "ax[0].set_title('Top 10 Highest Paid Skills for Data Analysts')\n",
    "ax[0].set_ylabel('')\n",
    "ax[0].set_xlabel('')\n",
    "ax[0].xaxis.set_major_formatter(plt.FuncFormatter(lambda x, _: f'${int(x/1000)}K'))\n",
    "\n",
    "###############################################################################################\n",
    "\n",
    "sns.barplot(data=df_Egy_top10_count, x='median', y=df_Egy_top10_count.index, ax=ax[1], hue='median', palette='mako_r') # _r to reverse the palette\n",
    "ax[1].legend_.remove()\n",
    "\n",
    "ax[1].set_title('Top 10 Most In-Demand Skills for Data Analysts')\n",
    "ax[1].set_ylabel('')\n",
    "ax[1].set_xlabel('Median Salary (USD)')\n",
    "ax[1].set_xlim(ax[0].get_xlim())\n",
    "ax[1].xaxis.set_major_formatter(plt.FuncFormatter(lambda x, _: f'${int(x/1000)}K'))\n",
    "\n",
    "fig.tight_layout()\n",
    "plt.show()\n",
    "\n"
   ]
  }
 ],
 "metadata": {
  "kernelspec": {
   "display_name": "data_env",
   "language": "python",
   "name": "python3"
  },
  "language_info": {
   "codemirror_mode": {
    "name": "ipython",
    "version": 3
   },
   "file_extension": ".py",
   "mimetype": "text/x-python",
   "name": "python",
   "nbconvert_exporter": "python",
   "pygments_lexer": "ipython3",
   "version": "3.12.11"
  }
 },
 "nbformat": 4,
 "nbformat_minor": 5
}
