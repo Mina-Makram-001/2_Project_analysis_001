{
 "cells": [
  {
   "cell_type": "markdown",
   "id": "6c77e048",
   "metadata": {},
   "source": [
    "___\n",
    "# 4.What is the most optimal skill to learn for Data Analysts?\n",
    "\n",
    "## Methodology\n",
    "1.  Continue from last notebook to find percent of postings with skill\n",
    "2.  Visualize median salary vs percent skill demand\n",
    "3.  (Optional) Determine if certain technologies are more prevalent\n",
    "\n",
    "## Original Exploration\n",
    "* `15_Matplotlib_Scatter_Plots.ipynb`\n",
    "* `16_Matplotlib_Advanced_Customization.ipynb`\n",
    "___"
   ]
  },
  {
   "cell_type": "code",
   "execution_count": 29,
   "id": "7b395c41",
   "metadata": {},
   "outputs": [],
   "source": [
    "import ast \n",
    "import numpy as np\n",
    "import pandas as pd\n",
    "from datasets import load_dataset\n",
    "import matplotlib.pyplot as plt\n",
    "import seaborn as sns\n",
    "\n",
    "\n",
    "# Loading Data\n",
    "dataset = load_dataset('lukebarousse/data_jobs')\n",
    "df = dataset['train'].to_pandas()\n",
    "\n",
    "#data cleanup\n",
    "df['job_posted_date']=pd.to_datetime(df['job_posted_date'])\n",
    "df['job_skills']=df['job_skills'].apply(lambda x: ast.literal_eval(x) if pd.notna(x) else x)  # This converts the string representation to an actual list"
   ]
  },
  {
   "cell_type": "code",
   "execution_count": 30,
   "id": "0f0e5418",
   "metadata": {},
   "outputs": [
    {
     "name": "stdout",
     "output_type": "stream",
     "text": [
      "<class 'pandas.core.frame.DataFrame'>\n",
      "RangeIndex: 785741 entries, 0 to 785740\n",
      "Data columns (total 17 columns):\n",
      " #   Column                 Non-Null Count   Dtype         \n",
      "---  ------                 --------------   -----         \n",
      " 0   job_title_short        785741 non-null  object        \n",
      " 1   job_title              785740 non-null  object        \n",
      " 2   job_location           784696 non-null  object        \n",
      " 3   job_via                785733 non-null  object        \n",
      " 4   job_schedule_type      773074 non-null  object        \n",
      " 5   job_work_from_home     785741 non-null  bool          \n",
      " 6   search_location        785741 non-null  object        \n",
      " 7   job_posted_date        785741 non-null  datetime64[ns]\n",
      " 8   job_no_degree_mention  785741 non-null  bool          \n",
      " 9   job_health_insurance   785741 non-null  bool          \n",
      " 10  job_country            785692 non-null  object        \n",
      " 11  salary_rate            33067 non-null   object        \n",
      " 12  salary_year_avg        22003 non-null   float64       \n",
      " 13  salary_hour_avg        10662 non-null   float64       \n",
      " 14  company_name           785723 non-null  object        \n",
      " 15  job_skills             668704 non-null  object        \n",
      " 16  job_type_skills        668704 non-null  object        \n",
      "dtypes: bool(3), datetime64[ns](1), float64(2), object(11)\n",
      "memory usage: 86.2+ MB\n"
     ]
    }
   ],
   "source": [
    "df.info()"
   ]
  },
  {
   "cell_type": "code",
   "execution_count": 31,
   "id": "d6787f2e",
   "metadata": {},
   "outputs": [],
   "source": [
    "df_DA_Egy=df[(df['job_title_short'] == 'Data Analyst') & (df['job_country'] == 'Egypt')].copy()\n"
   ]
  },
  {
   "cell_type": "code",
   "execution_count": 32,
   "id": "242825ac",
   "metadata": {},
   "outputs": [],
   "source": [
    "df_DA_Egy= df_DA_Egy.dropna(subset=['salary_year_avg'])\n",
    "df_DA_Egy_exploded= df_DA_Egy.explode('job_skills')"
   ]
  },
  {
   "cell_type": "code",
   "execution_count": 44,
   "id": "1d053690",
   "metadata": {},
   "outputs": [
    {
     "data": {
      "text/html": [
       "<div>\n",
       "<style scoped>\n",
       "    .dataframe tbody tr th:only-of-type {\n",
       "        vertical-align: middle;\n",
       "    }\n",
       "\n",
       "    .dataframe tbody tr th {\n",
       "        vertical-align: top;\n",
       "    }\n",
       "\n",
       "    .dataframe thead th {\n",
       "        text-align: right;\n",
       "    }\n",
       "</style>\n",
       "<table border=\"1\" class=\"dataframe\">\n",
       "  <thead>\n",
       "    <tr style=\"text-align: right;\">\n",
       "      <th></th>\n",
       "      <th>skills_count</th>\n",
       "      <th>median_salary</th>\n",
       "      <th>persent</th>\n",
       "    </tr>\n",
       "    <tr>\n",
       "      <th>job_skills</th>\n",
       "      <th></th>\n",
       "      <th></th>\n",
       "      <th></th>\n",
       "    </tr>\n",
       "  </thead>\n",
       "  <tbody>\n",
       "    <tr>\n",
       "      <th>python</th>\n",
       "      <td>3</td>\n",
       "      <td>57500.0</td>\n",
       "      <td>75.0</td>\n",
       "    </tr>\n",
       "    <tr>\n",
       "      <th>flow</th>\n",
       "      <td>2</td>\n",
       "      <td>62975.0</td>\n",
       "      <td>50.0</td>\n",
       "    </tr>\n",
       "    <tr>\n",
       "      <th>sql</th>\n",
       "      <td>2</td>\n",
       "      <td>63282.0</td>\n",
       "      <td>50.0</td>\n",
       "    </tr>\n",
       "    <tr>\n",
       "      <th>excel</th>\n",
       "      <td>1</td>\n",
       "      <td>51014.0</td>\n",
       "      <td>25.0</td>\n",
       "    </tr>\n",
       "    <tr>\n",
       "      <th>dax</th>\n",
       "      <td>1</td>\n",
       "      <td>75550.0</td>\n",
       "      <td>25.0</td>\n",
       "    </tr>\n",
       "    <tr>\n",
       "      <th>azure</th>\n",
       "      <td>1</td>\n",
       "      <td>75550.0</td>\n",
       "      <td>25.0</td>\n",
       "    </tr>\n",
       "    <tr>\n",
       "      <th>power bi</th>\n",
       "      <td>1</td>\n",
       "      <td>75550.0</td>\n",
       "      <td>25.0</td>\n",
       "    </tr>\n",
       "    <tr>\n",
       "      <th>r</th>\n",
       "      <td>1</td>\n",
       "      <td>51014.0</td>\n",
       "      <td>25.0</td>\n",
       "    </tr>\n",
       "    <tr>\n",
       "      <th>sap</th>\n",
       "      <td>1</td>\n",
       "      <td>75550.0</td>\n",
       "      <td>25.0</td>\n",
       "    </tr>\n",
       "    <tr>\n",
       "      <th>spark</th>\n",
       "      <td>1</td>\n",
       "      <td>51014.0</td>\n",
       "      <td>25.0</td>\n",
       "    </tr>\n",
       "    <tr>\n",
       "      <th>tableau</th>\n",
       "      <td>1</td>\n",
       "      <td>51014.0</td>\n",
       "      <td>25.0</td>\n",
       "    </tr>\n",
       "  </tbody>\n",
       "</table>\n",
       "</div>"
      ],
      "text/plain": [
       "            skills_count  median_salary  persent\n",
       "job_skills                                      \n",
       "python                 3        57500.0     75.0\n",
       "flow                   2        62975.0     50.0\n",
       "sql                    2        63282.0     50.0\n",
       "excel                  1        51014.0     25.0\n",
       "dax                    1        75550.0     25.0\n",
       "azure                  1        75550.0     25.0\n",
       "power bi               1        75550.0     25.0\n",
       "r                      1        51014.0     25.0\n",
       "sap                    1        75550.0     25.0\n",
       "spark                  1        51014.0     25.0\n",
       "tableau                1        51014.0     25.0"
      ]
     },
     "execution_count": 44,
     "metadata": {},
     "output_type": "execute_result"
    }
   ],
   "source": [
    "df_DA_skills= df_DA_Egy_exploded.groupby('job_skills')['salary_year_avg'].agg(['count', 'median']).sort_values(by='count', ascending=False)\n",
    "\n",
    "df_DA_skills= df_DA_skills.rename(columns={'count': 'skills_count', 'median': 'median_salary'})\n",
    "\n",
    "job_count=len(df_DA_Egy)\n",
    "\n",
    "df_DA_skills['persent']= df_DA_skills['skills_count']/ job_count *100\n",
    "\n",
    "df_DA_skills"
   ]
  },
  {
   "cell_type": "code",
   "execution_count": null,
   "id": "984cb974",
   "metadata": {},
   "outputs": [
    {
     "name": "stderr",
     "output_type": "stream",
     "text": [
      "C:\\Users\\go\\AppData\\Local\\Temp\\ipykernel_12204\\1332914010.py:5: FutureWarning: \n",
      "\n",
      "Passing `palette` without assigning `hue` is deprecated and will be removed in v0.14.0. Assign the `y` variable to `hue` and set `legend=False` for the same effect.\n",
      "\n",
      "  sns.barplot(\n"
     ]
    },
    {
     "data": {
      "image/png": "[encoded data removed]",
      "text/plain": [
       "<Figure size 1000x600 with 1 Axes>"
      ]
     },
     "metadata": {},
     "output_type": "display_data"
    }
   ],
   "source": [
    "# Sort by skills_count\n",
    "df_plot = df_DA_skills.sort_values(\"skills_count\", ascending=True).head(15)  # show top 15 for clarity\n",
    "\n",
    "plt.figure(figsize=(10,6))\n",
    "sns.barplot(\n",
    "    data=df_plot,\n",
    "    x=\"median_salary\", \n",
    "    y=df_plot.index, \n",
    "    palette=\"mako\"\n",
    ")\n",
    "\n",
    "# Format salary axis as $K\n",
    "plt.gca().xaxis.set_major_formatter(plt.FuncFormatter(lambda x, _: f'${int(x/1000)}K'))\n",
    "\n",
    "# Add percentage labels on bars\n",
    "for i, (salary, percent) in enumerate(zip(df_plot[\"median_salary\"], df_plot[\"persent\"])):\n",
    "    plt.text(salary + 2000, i, f\"{percent:.1f}%\", va=\"center\", fontsize=9, color=\"black\")\n",
    "\n",
    "sns.despine()\n",
    "plt.xlabel(\"Median Yearly Salary ($USD)\")\n",
    "plt.ylabel(\"Skill\")\n",
    "plt.title(\"Median Salary and Demand Percentage by Skill (Egypt)\")\n",
    "plt.tight_layout()\n",
    "plt.show()"
   ]
  }
 ],
 "metadata": {
  "kernelspec": {
   "display_name": "data_env",
   "language": "python",
   "name": "python3"
  },
  "language_info": {
   "codemirror_mode": {
    "name": "ipython",
    "version": 3
   },
   "file_extension": ".py",
   "mimetype": "text/x-python",
   "name": "python",
   "nbconvert_exporter": "python",
   "pygments_lexer": "ipython3",
   "version": "3.12.11"
  }
 },
 "nbformat": 4,
 "nbformat_minor": 5
}
