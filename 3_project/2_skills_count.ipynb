{
 "cells": [
  {
   "cell_type": "markdown",
   "id": "ec2da530",
   "metadata": {},
   "source": [
    "___\n",
    "# 1.What are the most demanded skills for the top 3 most popular data roles?\n",
    "\n",
    "## Methodology\n",
    "1.  Clean-up skill column\n",
    "2.  Calculate skill count based on `job_title_short`\n",
    "3.  Plot initial findings\n",
    "4.  Calculate skill percentage\n",
    "5.  Plot final findings\n",
    "\n",
    "## Original Exploration\n",
    "- `13_Matplotlib_Format_Charts.ipynb`\n",
    "___"
   ]
  },
  {
   "cell_type": "code",
   "execution_count": 1,
   "id": "f7cc5de1",
   "metadata": {},
   "outputs": [],
   "source": [
    "import ast \n",
    "import numpy as np\n",
    "import pandas as pd\n",
    "from datasets import load_dataset\n",
    "import matplotlib.pyplot as plt\n",
    "import seaborn as sns\n",
    "\n",
    "# Loading Data\n",
    "dataset = load_dataset('lukebarousse/data_jobs')\n",
    "df = dataset['train'].to_pandas()\n",
    "\n",
    "#data cleanup\n",
    "df['job_posted_date']=pd.to_datetime(df['job_posted_date'])\n",
    "df['job_skills']=df['job_skills'].apply(lambda x: ast.literal_eval(x) if pd.notna(x) else x)  # This converts the string representation to an actual list"
   ]
  },
  {
   "cell_type": "code",
   "execution_count": 2,
   "id": "da8aa69d",
   "metadata": {},
   "outputs": [
    {
     "name": "stdout",
     "output_type": "stream",
     "text": [
      "<class 'pandas.core.frame.DataFrame'>\n",
      "RangeIndex: 785741 entries, 0 to 785740\n",
      "Data columns (total 17 columns):\n",
      " #   Column                 Non-Null Count   Dtype         \n",
      "---  ------                 --------------   -----         \n",
      " 0   job_title_short        785741 non-null  object        \n",
      " 1   job_title              785740 non-null  object        \n",
      " 2   job_location           784696 non-null  object        \n",
      " 3   job_via                785733 non-null  object        \n",
      " 4   job_schedule_type      773074 non-null  object        \n",
      " 5   job_work_from_home     785741 non-null  bool          \n",
      " 6   search_location        785741 non-null  object        \n",
      " 7   job_posted_date        785741 non-null  datetime64[ns]\n",
      " 8   job_no_degree_mention  785741 non-null  bool          \n",
      " 9   job_health_insurance   785741 non-null  bool          \n",
      " 10  job_country            785692 non-null  object        \n",
      " 11  salary_rate            33067 non-null   object        \n",
      " 12  salary_year_avg        22003 non-null   float64       \n",
      " 13  salary_hour_avg        10662 non-null   float64       \n",
      " 14  company_name           785723 non-null  object        \n",
      " 15  job_skills             668704 non-null  object        \n",
      " 16  job_type_skills        668704 non-null  object        \n",
      "dtypes: bool(3), datetime64[ns](1), float64(2), object(11)\n",
      "memory usage: 86.2+ MB\n"
     ]
    }
   ],
   "source": [
    "df.info()"
   ]
  },
  {
   "cell_type": "code",
   "execution_count": 3,
   "id": "c0749aa4",
   "metadata": {},
   "outputs": [],
   "source": [
    "df_Egy= df[df['job_country']=='Egypt']\n"
   ]
  },
  {
   "cell_type": "code",
   "execution_count": 4,
   "id": "1ba300d9",
   "metadata": {},
   "outputs": [
    {
     "data": {
      "application/vnd.microsoft.datawrangler.viewer.v0+json": {
       "columns": [
        {
         "name": "index",
         "rawType": "int64",
         "type": "integer"
        },
        {
         "name": "job_title",
         "rawType": "object",
         "type": "string"
        },
        {
         "name": "job_skills",
         "rawType": "object",
         "type": "unknown"
        }
       ],
       "ref": "8ebb9c08-f526-4ddc-a38a-58792b849192",
       "rows": [
        [
         "83",
         "Senior DevOps Engineer",
         "bash"
        ],
        [
         "83",
         "Senior DevOps Engineer",
         "python"
        ],
        [
         "83",
         "Senior DevOps Engineer",
         "aws"
        ],
        [
         "83",
         "Senior DevOps Engineer",
         "linux"
        ],
        [
         "83",
         "Senior DevOps Engineer",
         "splunk"
        ],
        [
         "83",
         "Senior DevOps Engineer",
         "github"
        ],
        [
         "83",
         "Senior DevOps Engineer",
         "jenkins"
        ],
        [
         "83",
         "Senior DevOps Engineer",
         "kubernetes"
        ],
        [
         "83",
         "Senior DevOps Engineer",
         "docker"
        ],
        [
         "83",
         "Senior DevOps Engineer",
         "ansible"
        ],
        [
         "83",
         "Senior DevOps Engineer",
         "terraform"
        ],
        [
         "1320",
         "Integration Engineer",
         "go"
        ],
        [
         "1320",
         "Integration Engineer",
         "node"
        ],
        [
         "1362",
         "Machine learning engineer",
         null
        ],
        [
         "1567",
         "Data Analyst",
         "python"
        ],
        [
         "2981",
         "Senior Data Business Analyst",
         "sql"
        ],
        [
         "2981",
         "Senior Data Business Analyst",
         "python"
        ],
        [
         "2981",
         "Senior Data Business Analyst",
         "r"
        ],
        [
         "2981",
         "Senior Data Business Analyst",
         "tableau"
        ],
        [
         "2981",
         "Senior Data Business Analyst",
         "excel"
        ],
        [
         "2997",
         "Data Analyst",
         "python"
        ],
        [
         "2997",
         "Data Analyst",
         "sql"
        ],
        [
         "2997",
         "Data Analyst",
         "looker"
        ],
        [
         "2997",
         "Data Analyst",
         "power bi"
        ],
        [
         "3117",
         "Digital Marketing Data Analyst",
         "sas"
        ],
        [
         "3117",
         "Digital Marketing Data Analyst",
         "sas"
        ],
        [
         "3117",
         "Digital Marketing Data Analyst",
         "spss"
        ],
        [
         "3117",
         "Digital Marketing Data Analyst",
         "excel"
        ],
        [
         "3607",
         "Data Quality Engineer",
         null
        ],
        [
         "3962",
         "Data Analyst",
         "elixir"
        ],
        [
         "3962",
         "Data Analyst",
         "sql"
        ],
        [
         "3962",
         "Data Analyst",
         "excel"
        ],
        [
         "3962",
         "Data Analyst",
         "power bi"
        ],
        [
         "4220",
         "Senior Research Scientist",
         "python"
        ],
        [
         "4220",
         "Senior Research Scientist",
         "azure"
        ],
        [
         "4220",
         "Senior Research Scientist",
         "aws"
        ],
        [
         "4220",
         "Senior Research Scientist",
         "pytorch"
        ],
        [
         "4220",
         "Senior Research Scientist",
         "tensorflow"
        ],
        [
         "4515",
         "Data Warehouse Engineer",
         "sql"
        ],
        [
         "4515",
         "Data Warehouse Engineer",
         "sql server"
        ],
        [
         "4515",
         "Data Warehouse Engineer",
         "sharepoint"
        ],
        [
         "5237",
         "Data Analytics - Scientist Manager - Cairo",
         "scala"
        ],
        [
         "5237",
         "Data Analytics - Scientist Manager - Cairo",
         "sql"
        ],
        [
         "5237",
         "Data Analytics - Scientist Manager - Cairo",
         "nosql"
        ],
        [
         "5237",
         "Data Analytics - Scientist Manager - Cairo",
         "mongodb"
        ],
        [
         "5237",
         "Data Analytics - Scientist Manager - Cairo",
         "mongodb"
        ],
        [
         "5237",
         "Data Analytics - Scientist Manager - Cairo",
         "python"
        ],
        [
         "5237",
         "Data Analytics - Scientist Manager - Cairo",
         "sas"
        ],
        [
         "5237",
         "Data Analytics - Scientist Manager - Cairo",
         "sas"
        ],
        [
         "5237",
         "Data Analytics - Scientist Manager - Cairo",
         "r"
        ]
       ],
       "shape": {
        "columns": 2,
        "rows": 13054
       }
      },
      "text/html": [
       "<div>\n",
       "<style scoped>\n",
       "    .dataframe tbody tr th:only-of-type {\n",
       "        vertical-align: middle;\n",
       "    }\n",
       "\n",
       "    .dataframe tbody tr th {\n",
       "        vertical-align: top;\n",
       "    }\n",
       "\n",
       "    .dataframe thead th {\n",
       "        text-align: right;\n",
       "    }\n",
       "</style>\n",
       "<table border=\"1\" class=\"dataframe\">\n",
       "  <thead>\n",
       "    <tr style=\"text-align: right;\">\n",
       "      <th></th>\n",
       "      <th>job_title</th>\n",
       "      <th>job_skills</th>\n",
       "    </tr>\n",
       "  </thead>\n",
       "  <tbody>\n",
       "    <tr>\n",
       "      <th>83</th>\n",
       "      <td>Senior DevOps Engineer</td>\n",
       "      <td>bash</td>\n",
       "    </tr>\n",
       "    <tr>\n",
       "      <th>83</th>\n",
       "      <td>Senior DevOps Engineer</td>\n",
       "      <td>python</td>\n",
       "    </tr>\n",
       "    <tr>\n",
       "      <th>83</th>\n",
       "      <td>Senior DevOps Engineer</td>\n",
       "      <td>aws</td>\n",
       "    </tr>\n",
       "    <tr>\n",
       "      <th>83</th>\n",
       "      <td>Senior DevOps Engineer</td>\n",
       "      <td>linux</td>\n",
       "    </tr>\n",
       "    <tr>\n",
       "      <th>83</th>\n",
       "      <td>Senior DevOps Engineer</td>\n",
       "      <td>splunk</td>\n",
       "    </tr>\n",
       "    <tr>\n",
       "      <th>...</th>\n",
       "      <td>...</td>\n",
       "      <td>...</td>\n",
       "    </tr>\n",
       "    <tr>\n",
       "      <th>785558</th>\n",
       "      <td>Marketing Analyst</td>\n",
       "      <td>looker</td>\n",
       "    </tr>\n",
       "    <tr>\n",
       "      <th>785587</th>\n",
       "      <td>Business Intelligence Analyst</td>\n",
       "      <td>python</td>\n",
       "    </tr>\n",
       "    <tr>\n",
       "      <th>785587</th>\n",
       "      <td>Business Intelligence Analyst</td>\n",
       "      <td>power bi</td>\n",
       "    </tr>\n",
       "    <tr>\n",
       "      <th>785587</th>\n",
       "      <td>Business Intelligence Analyst</td>\n",
       "      <td>dax</td>\n",
       "    </tr>\n",
       "    <tr>\n",
       "      <th>785686</th>\n",
       "      <td>Business Analyst</td>\n",
       "      <td>None</td>\n",
       "    </tr>\n",
       "  </tbody>\n",
       "</table>\n",
       "<p>13054 rows × 2 columns</p>\n",
       "</div>"
      ],
      "text/plain": [
       "                            job_title job_skills\n",
       "83             Senior DevOps Engineer       bash\n",
       "83             Senior DevOps Engineer     python\n",
       "83             Senior DevOps Engineer        aws\n",
       "83             Senior DevOps Engineer      linux\n",
       "83             Senior DevOps Engineer     splunk\n",
       "...                               ...        ...\n",
       "785558              Marketing Analyst     looker\n",
       "785587  Business Intelligence Analyst     python\n",
       "785587  Business Intelligence Analyst   power bi\n",
       "785587  Business Intelligence Analyst        dax\n",
       "785686               Business Analyst       None\n",
       "\n",
       "[13054 rows x 2 columns]"
      ]
     },
     "execution_count": 4,
     "metadata": {},
     "output_type": "execute_result"
    }
   ],
   "source": [
    "df_Egy_explode= df_Egy.explode('job_skills')\n",
    "df_Egy_explode[['job_title','job_skills']]"
   ]
  },
  {
   "cell_type": "code",
   "execution_count": 5,
   "id": "c058b0d0",
   "metadata": {},
   "outputs": [
    {
     "data": {
      "application/vnd.microsoft.datawrangler.viewer.v0+json": {
       "columns": [
        {
         "name": "index",
         "rawType": "int64",
         "type": "integer"
        },
        {
         "name": "job_title_short",
         "rawType": "object",
         "type": "string"
        },
        {
         "name": "job_skills",
         "rawType": "object",
         "type": "string"
        },
        {
         "name": "skills_count",
         "rawType": "int64",
         "type": "integer"
        }
       ],
       "ref": "27add32b-2a7f-41ae-9228-7030ca5b25e7",
       "rows": [
        [
         "310",
         "Data Engineer",
         "python",
         "270"
        ],
        [
         "328",
         "Data Engineer",
         "sql",
         "251"
        ],
        [
         "415",
         "Data Scientist",
         "python",
         "239"
        ],
        [
         "213",
         "Data Analyst",
         "sql",
         "199"
        ],
        [
         "436",
         "Data Scientist",
         "sql",
         "185"
        ],
        [
         "325",
         "Data Engineer",
         "spark",
         "175"
        ],
        [
         "153",
         "Data Analyst",
         "excel",
         "167"
        ],
        [
         "666",
         "Senior Data Engineer",
         "sql",
         "167"
        ],
        [
         "236",
         "Data Engineer",
         "aws",
         "165"
        ],
        [
         "194",
         "Data Analyst",
         "python",
         "157"
        ],
        [
         "649",
         "Senior Data Engineer",
         "python",
         "154"
        ],
        [
         "279",
         "Data Engineer",
         "kafka",
         "132"
        ],
        [
         "219",
         "Data Analyst",
         "tableau",
         "127"
        ],
        [
         "191",
         "Data Analyst",
         "power bi",
         "124"
        ],
        [
         "237",
         "Data Engineer",
         "azure",
         "123"
        ],
        [
         "440",
         "Data Scientist",
         "tableau",
         "109"
        ],
        [
         "274",
         "Data Engineer",
         "java",
         "107"
        ],
        [
         "272",
         "Data Engineer",
         "hadoop",
         "104"
        ],
        [
         "757",
         "Senior Data Scientist",
         "sql",
         "100"
        ],
        [
         "739",
         "Senior Data Scientist",
         "python",
         "99"
        ],
        [
         "586",
         "Senior Data Engineer",
         "aws",
         "98"
        ],
        [
         "12",
         "Business Analyst",
         "excel",
         "97"
        ],
        [
         "320",
         "Data Engineer",
         "scala",
         "96"
        ],
        [
         "418",
         "Data Scientist",
         "r",
         "95"
        ],
        [
         "618",
         "Senior Data Engineer",
         "java",
         "88"
        ],
        [
         "663",
         "Senior Data Engineer",
         "spark",
         "85"
        ],
        [
         "568",
         "Senior Data Analyst",
         "sql",
         "85"
        ],
        [
         "851",
         "Software Engineer",
         "python",
         "84"
        ],
        [
         "296",
         "Data Engineer",
         "nosql",
         "83"
        ],
        [
         "289",
         "Data Engineer",
         "mongodb",
         "76"
        ],
        [
         "56",
         "Business Analyst",
         "sql",
         "75"
        ],
        [
         "587",
         "Senior Data Engineer",
         "azure",
         "74"
        ],
        [
         "877",
         "Software Engineer",
         "sql",
         "74"
        ],
        [
         "265",
         "Data Engineer",
         "gcp",
         "73"
        ],
        [
         "229",
         "Data Engineer",
         "airflow",
         "71"
        ],
        [
         "433",
         "Data Scientist",
         "spark",
         "71"
        ],
        [
         "379",
         "Data Scientist",
         "java",
         "70"
        ],
        [
         "494",
         "Machine Learning Engineer",
         "python",
         "65"
        ],
        [
         "814",
         "Software Engineer",
         "java",
         "63"
        ],
        [
         "623",
         "Senior Data Engineer",
         "kafka",
         "61"
        ],
        [
         "333",
         "Data Engineer",
         "tableau",
         "61"
        ],
        [
         "615",
         "Senior Data Engineer",
         "hadoop",
         "61"
        ],
        [
         "316",
         "Data Engineer",
         "redshift",
         "59"
        ],
        [
         "762",
         "Senior Data Scientist",
         "tableau",
         "59"
        ],
        [
         "658",
         "Senior Data Engineer",
         "scala",
         "59"
        ],
        [
         "36",
         "Business Analyst",
         "power bi",
         "59"
        ],
        [
         "441",
         "Data Scientist",
         "tensorflow",
         "57"
        ],
        [
         "306",
         "Data Engineer",
         "power bi",
         "56"
        ],
        [
         "61",
         "Business Analyst",
         "tableau",
         "56"
        ],
        [
         "354",
         "Data Scientist",
         "c++",
         "55"
        ]
       ],
       "shape": {
        "columns": 3,
        "rows": 900
       }
      },
      "text/html": [
       "<div>\n",
       "<style scoped>\n",
       "    .dataframe tbody tr th:only-of-type {\n",
       "        vertical-align: middle;\n",
       "    }\n",
       "\n",
       "    .dataframe tbody tr th {\n",
       "        vertical-align: top;\n",
       "    }\n",
       "\n",
       "    .dataframe thead th {\n",
       "        text-align: right;\n",
       "    }\n",
       "</style>\n",
       "<table border=\"1\" class=\"dataframe\">\n",
       "  <thead>\n",
       "    <tr style=\"text-align: right;\">\n",
       "      <th></th>\n",
       "      <th>job_title_short</th>\n",
       "      <th>job_skills</th>\n",
       "      <th>skills_count</th>\n",
       "    </tr>\n",
       "  </thead>\n",
       "  <tbody>\n",
       "    <tr>\n",
       "      <th>310</th>\n",
       "      <td>Data Engineer</td>\n",
       "      <td>python</td>\n",
       "      <td>270</td>\n",
       "    </tr>\n",
       "    <tr>\n",
       "      <th>328</th>\n",
       "      <td>Data Engineer</td>\n",
       "      <td>sql</td>\n",
       "      <td>251</td>\n",
       "    </tr>\n",
       "    <tr>\n",
       "      <th>415</th>\n",
       "      <td>Data Scientist</td>\n",
       "      <td>python</td>\n",
       "      <td>239</td>\n",
       "    </tr>\n",
       "    <tr>\n",
       "      <th>213</th>\n",
       "      <td>Data Analyst</td>\n",
       "      <td>sql</td>\n",
       "      <td>199</td>\n",
       "    </tr>\n",
       "    <tr>\n",
       "      <th>436</th>\n",
       "      <td>Data Scientist</td>\n",
       "      <td>sql</td>\n",
       "      <td>185</td>\n",
       "    </tr>\n",
       "    <tr>\n",
       "      <th>...</th>\n",
       "      <td>...</td>\n",
       "      <td>...</td>\n",
       "      <td>...</td>\n",
       "    </tr>\n",
       "    <tr>\n",
       "      <th>5</th>\n",
       "      <td>Business Analyst</td>\n",
       "      <td>c#</td>\n",
       "      <td>1</td>\n",
       "    </tr>\n",
       "    <tr>\n",
       "      <th>1</th>\n",
       "      <td>Business Analyst</td>\n",
       "      <td>assembly</td>\n",
       "      <td>1</td>\n",
       "    </tr>\n",
       "    <tr>\n",
       "      <th>0</th>\n",
       "      <td>Business Analyst</td>\n",
       "      <td>alteryx</td>\n",
       "      <td>1</td>\n",
       "    </tr>\n",
       "    <tr>\n",
       "      <th>898</th>\n",
       "      <td>Software Engineer</td>\n",
       "      <td>yarn</td>\n",
       "      <td>1</td>\n",
       "    </tr>\n",
       "    <tr>\n",
       "      <th>899</th>\n",
       "      <td>Software Engineer</td>\n",
       "      <td>zoom</td>\n",
       "      <td>1</td>\n",
       "    </tr>\n",
       "  </tbody>\n",
       "</table>\n",
       "<p>900 rows × 3 columns</p>\n",
       "</div>"
      ],
      "text/plain": [
       "       job_title_short job_skills  skills_count\n",
       "310      Data Engineer     python           270\n",
       "328      Data Engineer        sql           251\n",
       "415     Data Scientist     python           239\n",
       "213       Data Analyst        sql           199\n",
       "436     Data Scientist        sql           185\n",
       "..                 ...        ...           ...\n",
       "5     Business Analyst         c#             1\n",
       "1     Business Analyst   assembly             1\n",
       "0     Business Analyst    alteryx             1\n",
       "898  Software Engineer       yarn             1\n",
       "899  Software Engineer       zoom             1\n",
       "\n",
       "[900 rows x 3 columns]"
      ]
     },
     "execution_count": 5,
     "metadata": {},
     "output_type": "execute_result"
    }
   ],
   "source": [
    "df_skills_count= df_Egy_explode.groupby(['job_title_short','job_skills']).size()\n",
    "df_skills_count= df_skills_count.reset_index(name='skills_count').sort_values(by='skills_count', ascending=False)\n",
    "df_skills_count"
   ]
  },
  {
   "cell_type": "code",
   "execution_count": 6,
   "id": "32a5d02e",
   "metadata": {},
   "outputs": [
    {
     "data": {
      "text/plain": [
       "['Data Analyst', 'Data Engineer', 'Data Scientist']"
      ]
     },
     "execution_count": 6,
     "metadata": {},
     "output_type": "execute_result"
    }
   ],
   "source": [
    "job_titles = df_skills_count['job_title_short'].unique().tolist()\n",
    "job_titles = sorted(job_titles[:3])   # modifies the list directly\n",
    "job_titles"
   ]
  },
  {
   "cell_type": "code",
   "execution_count": 7,
   "id": "69ab28ab",
   "metadata": {},
   "outputs": [
    {
     "name": "stderr",
     "output_type": "stream",
     "text": [
      "C:\\Users\\go\\AppData\\Local\\Temp\\ipykernel_11120\\3122027213.py:4: FutureWarning: \n",
      "\n",
      "Passing `palette` without assigning `hue` is deprecated and will be removed in v0.14.0. Assign the `y` variable to `hue` and set `legend=False` for the same effect.\n",
      "\n",
      "  sns.barplot(data=df_plot, x='skills_count',y='job_skills',palette='mako',ax=ax[i])\n",
      "C:\\Users\\go\\AppData\\Local\\Temp\\ipykernel_11120\\3122027213.py:4: FutureWarning: \n",
      "\n",
      "Passing `palette` without assigning `hue` is deprecated and will be removed in v0.14.0. Assign the `y` variable to `hue` and set `legend=False` for the same effect.\n",
      "\n",
      "  sns.barplot(data=df_plot, x='skills_count',y='job_skills',palette='mako',ax=ax[i])\n",
      "C:\\Users\\go\\AppData\\Local\\Temp\\ipykernel_11120\\3122027213.py:4: FutureWarning: \n",
      "\n",
      "Passing `palette` without assigning `hue` is deprecated and will be removed in v0.14.0. Assign the `y` variable to `hue` and set `legend=False` for the same effect.\n",
      "\n",
      "  sns.barplot(data=df_plot, x='skills_count',y='job_skills',palette='mako',ax=ax[i])\n"
     ]
    },
    {
     "data": {
      "image/png": "[encoded data removed]",
      "text/plain": [
       "<Figure size 640x480 with 3 Axes>"
      ]
     },
     "metadata": {},
     "output_type": "display_data"
    }
   ],
   "source": [
    "fig, ax= plt.subplots(len(job_titles),1)\n",
    "for i, job_title in enumerate(job_titles):\n",
    "    df_plot=df_skills_count[df_skills_count['job_title_short'] == job_title].head()\n",
    "    sns.barplot(data=df_plot, x='skills_count',y='job_skills',palette='mako',ax=ax[i])"
   ]
  },
  {
   "cell_type": "code",
   "execution_count": 8,
   "id": "3c23de51",
   "metadata": {},
   "outputs": [
    {
     "name": "stderr",
     "output_type": "stream",
     "text": [
      "C:\\Users\\go\\AppData\\Local\\Temp\\ipykernel_11120\\2774585022.py:7: FutureWarning: \n",
      "\n",
      "Passing `palette` without assigning `hue` is deprecated and will be removed in v0.14.0. Assign the `y` variable to `hue` and set `legend=False` for the same effect.\n",
      "\n",
      "  sns.barplot(data=df_plot, x='skills_count',y='job_skills',palette='mako',ax=ax[i])\n",
      "C:\\Users\\go\\AppData\\Local\\Temp\\ipykernel_11120\\2774585022.py:7: FutureWarning: \n",
      "\n",
      "Passing `palette` without assigning `hue` is deprecated and will be removed in v0.14.0. Assign the `y` variable to `hue` and set `legend=False` for the same effect.\n",
      "\n",
      "  sns.barplot(data=df_plot, x='skills_count',y='job_skills',palette='mako',ax=ax[i])\n",
      "C:\\Users\\go\\AppData\\Local\\Temp\\ipykernel_11120\\2774585022.py:7: FutureWarning: \n",
      "\n",
      "Passing `palette` without assigning `hue` is deprecated and will be removed in v0.14.0. Assign the `y` variable to `hue` and set `legend=False` for the same effect.\n",
      "\n",
      "  sns.barplot(data=df_plot, x='skills_count',y='job_skills',palette='mako',ax=ax[i])\n"
     ]
    },
    {
     "data": {
      "image/png": "[encoded data removed]",
      "text/plain": [
       "<Figure size 640x480 with 3 Axes>"
      ]
     },
     "metadata": {},
     "output_type": "display_data"
    }
   ],
   "source": [
    "fig, ax= plt.subplots(len(job_titles),1)\n",
    "\n",
    "\n",
    "\n",
    "for i, job_title in enumerate(job_titles):\n",
    "    df_plot=df_skills_count[df_skills_count['job_title_short'] == job_title].head()\n",
    "    sns.barplot(data=df_plot, x='skills_count',y='job_skills',palette='mako',ax=ax[i])\n",
    "    ax[i].set_ylabel(job_title)\n",
    "    ax[i].set_xlim(0, 250)\n",
    "     \n",
    "     # Calculate percentages\n",
    "    total = df_plot['skills_count'].sum()\n",
    "    df_plot['percentage'] = df_plot['skills_count'] / total * 100\n",
    "\n",
    "        # Annotate each bar with percentage\n",
    "    for p, perc in zip(ax[i].patches, df_plot['percentage']):\n",
    "        width = p.get_width()\n",
    "        ax[i].text(\n",
    "            width + 0.5,                      # position (a bit to the right of bar)\n",
    "            p.get_y() + p.get_height() / 2,   # center of the bar\n",
    "            f'{perc:.1f}%',                   # format percentage\n",
    "            va='center'\n",
    "        )\n",
    "\n",
    "plt.tight_layout()\n",
    "sns.despine()"
   ]
  }
 ],
 "metadata": {
  "kernelspec": {
   "display_name": "data_env",
   "language": "python",
   "name": "python3"
  },
  "language_info": {
   "codemirror_mode": {
    "name": "ipython",
    "version": 3
   },
   "file_extension": ".py",
   "mimetype": "text/x-python",
   "name": "python",
   "nbconvert_exporter": "python",
   "pygments_lexer": "ipython3",
   "version": "3.12.11"
  }
 },
 "nbformat": 4,
 "nbformat_minor": 5
}
