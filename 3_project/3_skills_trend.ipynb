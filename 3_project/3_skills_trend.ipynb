{
 "cells": [
  {
   "cell_type": "markdown",
   "id": "80263ba1",
   "metadata": {},
   "source": [
    "___\n",
    "# 2.How are in-demand skills trending for Data Analysts?\n",
    "\n",
    "## Methodology\n",
    "1.  Aggregate skill counts monthly\n",
    "2.  Plot the monthly skill counts\n",
    "3.  Re-analyze based on percentage of total jobs\n",
    "4.  Plot the monthly skill demand\n",
    "\n",
    "## Original Exploration\n",
    "- `12_Exercise_Trending_Skills.ipynb`\n",
    "___"
   ]
  },
  {
   "cell_type": "code",
   "execution_count": 1,
   "id": "f17a2fd8",
   "metadata": {},
   "outputs": [],
   "source": [
    "import ast \n",
    "import numpy as np\n",
    "import pandas as pd\n",
    "from datasets import load_dataset\n",
    "import matplotlib.pyplot as plt\n",
    "import seaborn as sns\n",
    "\n",
    "# Loading Data\n",
    "dataset = load_dataset('lukebarousse/data_jobs')\n",
    "df = dataset['train'].to_pandas()\n",
    "\n",
    "#data cleanup\n",
    "df['job_posted_date']=pd.to_datetime(df['job_posted_date'])\n",
    "df['job_skills']=df['job_skills'].apply(lambda x: ast.literal_eval(x) if pd.notna(x) else x)  # This converts the string representation to an actual list"
   ]
  },
  {
   "cell_type": "code",
   "execution_count": null,
   "id": "758c0c8a",
   "metadata": {},
   "outputs": [],
   "source": []
  }
 ],
 "metadata": {
  "kernelspec": {
   "display_name": "data_env",
   "language": "python",
   "name": "python3"
  },
  "language_info": {
   "codemirror_mode": {
    "name": "ipython",
    "version": 3
   },
   "file_extension": ".py",
   "mimetype": "text/x-python",
   "name": "python",
   "nbconvert_exporter": "python",
   "pygments_lexer": "ipython3",
   "version": "3.12.11"
  }
 },
 "nbformat": 4,
 "nbformat_minor": 5
}
