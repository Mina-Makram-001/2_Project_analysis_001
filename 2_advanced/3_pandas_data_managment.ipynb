{
 "cells": [
  {
   "cell_type": "markdown",
   "id": "5edc194c",
   "metadata": {},
   "source": [
    "## data managment\n",
    "\n",
    ">Summary (Core Pillars):\n",
    "- Explore: head, info, describe, shape\n",
    "- Select: loc, iloc, filtering\n",
    "- Sort: sort_values, sort_index\n",
    "- Aggregate: groupby, agg, pivot_table\n",
    "- Combine: concat, merge, join\n",
    "- Transform: apply, map, assign\n",
    "- Reshape: melt, pivot, stack, unstack\n",
    "- Indexing: set_index, reset_index, isin\n",
    "- I/O: read_csv, to_csv, etc.\n",
    "\n"
   ]
  },
  {
   "cell_type": "code",
   "execution_count": 35,
   "id": "0f555fa1",
   "metadata": {},
   "outputs": [],
   "source": [
    "import numpy as np\n",
    "import pandas as pd\n",
    "from datasets import load_dataset\n",
    "import matplotlib.pyplot as plt\n",
    "\n",
    "\n",
    "# Loading Data\n",
    "dataset = load_dataset('lukebarousse/data_jobs')\n",
    "df = dataset['train'].to_pandas()\n",
    "\n",
    "#data cleanup\n",
    "df['job_posted_date']=pd.to_datetime(df['job_posted_date'])"
   ]
  },
  {
   "cell_type": "code",
   "execution_count": null,
   "id": "a29deac8",
   "metadata": {},
   "outputs": [],
   "source": [
    "df.info()"
   ]
  },
  {
   "cell_type": "code",
   "execution_count": null,
   "id": "be3e17cd",
   "metadata": {},
   "outputs": [],
   "source": [
    "#df.head() # first rows\n",
    "#df.tail() # last rows\n",
    "#df.describe() #summary statistics\n",
    "df.sample(6, random_state=42) # random sample of rows\n",
    "                              # random_state to get the same sample each time\n",
    "                              # 42 is the answer to life, the universe and everything (culturl reference \"you can use any number you like ❤\")\n"
   ]
  },
  {
   "cell_type": "code",
   "execution_count": null,
   "id": "f683e88f",
   "metadata": {},
   "outputs": [],
   "source": [
    "median_salary_year_avg= df.salary_year_avg.fillna(df.salary_year_avg.median())\n",
    "\n",
    "df_filled= df\n",
    "\n",
    "df_filled['salary_year_avg']= df_filled['salary_year_avg'].fillna(median_salary_year_avg)\n",
    "\n",
    "#df_filled.loc[0:, 'salary_year_avg']\n",
    "#df.loc[0:, 'salary_year_avg']        #restart the kernel to see the difference from the restart icon\n",
    "\n",
    "#both ways work, but using df.copy() is safer to avoid modifying the original dataframe by mistake\n",
    "id(df) == id(df_filled) #becouse they have the same id, they are the same object in memory\n"
   ]
  },
  {
   "cell_type": "code",
   "execution_count": 38,
   "id": "6e71b0e9",
   "metadata": {},
   "outputs": [
    {
     "data": {
      "text/plain": [
       "0        NaN\n",
       "1        NaN\n",
       "2        NaN\n",
       "3        NaN\n",
       "4        NaN\n",
       "          ..\n",
       "785736   NaN\n",
       "785737   NaN\n",
       "785738   NaN\n",
       "785739   NaN\n",
       "785740   NaN\n",
       "Name: salary_year_avg, Length: 785741, dtype: float64"
      ]
     },
     "execution_count": 38,
     "metadata": {},
     "output_type": "execute_result"
    }
   ],
   "source": [
    "median_salary_year_avg= df.salary_year_avg.fillna(df.salary_year_avg.median())\n",
    "\n",
    "df_filled= df.copy()\n",
    "\n",
    "df_filled['salary_year_avg']= df_filled['salary_year_avg'].fillna(median_salary_year_avg)\n",
    "\n",
    "#df_filled.loc[0:, 'salary_year_avg']\n",
    "#df.loc[0:, 'salary_year_avg']        #restart the kernel to see the difference from the restart icon\n",
    "\n",
    "#both ways work, but using df.copy() is safer to avoid modifying the original dataframe by mistake\n",
    "id(df) == id(df_filled) #becouse they have different ids, they are different objects in memory\n"
   ]
  }
 ],
 "metadata": {
  "kernelspec": {
   "display_name": "data_env",
   "language": "python",
   "name": "python3"
  },
  "language_info": {
   "codemirror_mode": {
    "name": "ipython",
    "version": 3
   },
   "file_extension": ".py",
   "mimetype": "text/x-python",
   "name": "python",
   "nbconvert_exporter": "python",
   "pygments_lexer": "ipython3",
   "version": "3.12.11"
  }
 },
 "nbformat": 4,
 "nbformat_minor": 5
}
